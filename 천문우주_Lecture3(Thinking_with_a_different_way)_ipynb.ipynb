{
  "nbformat": 4,
  "nbformat_minor": 0,
  "metadata": {
    "colab": {
      "name": "천문우주_Lecture3(Thinking with a different way).ipynb.ipynb",
      "version": "0.3.2",
      "provenance": [],
      "include_colab_link": true
    },
    "kernelspec": {
      "name": "python3",
      "display_name": "Python 3"
    }
  },
  "cells": [
    {
      "cell_type": "markdown",
      "metadata": {
        "id": "view-in-github",
        "colab_type": "text"
      },
      "source": [
        "<a href=\"https://colab.research.google.com/github/smlrkh1107/Python3/blob/astronomy/%EC%B2%9C%EB%AC%B8%EC%9A%B0%EC%A3%BC_Lecture3(Thinking_with_a_different_way)_ipynb.ipynb\" target=\"_parent\"><img src=\"https://colab.research.google.com/assets/colab-badge.svg\" alt=\"Open In Colab\"/></a>"
      ]
    },
    {
      "metadata": {
        "id": "ZjPGrXjVMg8V",
        "colab_type": "text"
      },
      "cell_type": "markdown",
      "source": [
        "#[Lecture 3]"
      ]
    },
    {
      "metadata": {
        "id": "2MCHB9kzNNud",
        "colab_type": "text"
      },
      "cell_type": "markdown",
      "source": [
        "##00. File Upload"
      ]
    },
    {
      "metadata": {
        "id": "rqV2uUiPMkC9",
        "colab_type": "code",
        "colab": {}
      },
      "cell_type": "code",
      "source": [
        "#gits에 코드 오지게떠서 일단 주석처리!\n",
        "#코랩에 내 컴퓨터에 있는 파일 업로드 !! 버튼뜸.\n",
        "from google.colab import files\n",
        "files.upload();"
      ],
      "execution_count": 0,
      "outputs": []
    },
    {
      "metadata": {
        "id": "7ItPCnI1NRFe",
        "colab_type": "code",
        "colab": {}
      },
      "cell_type": "code",
      "source": [
        "#gits에 코드 오지게떠서 일단 주석처리!\n",
        "#코랩에 내 컴퓨터에 있는 파일 업로드 !! 버튼뜸.\n",
        "from google.colab import files\n",
        "files.upload();"
      ],
      "execution_count": 0,
      "outputs": []
    },
    {
      "metadata": {
        "id": "97usKZmcNS_G",
        "colab_type": "text"
      },
      "cell_type": "markdown",
      "source": [
        "##02. Display"
      ]
    },
    {
      "metadata": {
        "id": "OVjXADDoNVhn",
        "colab_type": "code",
        "colab": {}
      },
      "cell_type": "code",
      "source": [
        "#\n",
        "# SAMPLE 02. Display SDO.\n",
        "#\n",
        "\n",
        "import matplotlib.pyplot as plt\n",
        "import matplotlib.cm as cm\n",
        "\n",
        "import fitsfile\n",
        "\n",
        "#\n",
        "# Load a FITS file.\n",
        "file_path = \"aia.lev1_171_2013-05-01T03_00_00Z_image_lev1.fits\"\n",
        "\n",
        "fits = fitsfile.FitsFile()\n",
        "fits.load_file(file_path)\n",
        "\n",
        "#\n",
        "# Display the FITS.\n",
        "fig, ax = plt.subplots()\n",
        "im = plt.imshow(fits.data)\n",
        "plt.colorbar(im, ax=ax)\n",
        "plt.show()\n",
        "\n"
      ],
      "execution_count": 0,
      "outputs": []
    },
    {
      "metadata": {
        "id": "-aws-294NYLp",
        "colab_type": "text"
      },
      "cell_type": "markdown",
      "source": [
        "##03.  Log Scale"
      ]
    },
    {
      "metadata": {
        "id": "SEQAs_GINZih",
        "colab_type": "code",
        "colab": {}
      },
      "cell_type": "code",
      "source": [
        "#\n",
        "# CODE 03. Display SDO in log scale.\n",
        "#\n",
        "\n",
        "import numpy as np\n",
        "\n",
        "\n",
        "import pickle\n",
        "file = open(\"sdoaia171.pickle\", \"rb\")\n",
        "sdoaia171 = pickle.load(file)\n",
        "\n",
        "\n",
        "#\n",
        "# Load a FITS file.\n",
        "file_path = \"aia.lev1_171_2013-05-01T03_00_00Z_image_lev1.fits\"\n",
        "\n",
        "fits = fitsfile.FitsFile()\n",
        "fits.load_file(file_path)\n",
        "\n",
        "#\n",
        "# Convert data to logscale.\n",
        "fits.data = np.clip(fits.data, 1.0, None)\n",
        "fits.data = np.log10(fits.data)\n",
        "\n",
        "min = np.min(fits.data)\n",
        "max = np.max(fits.data)\n",
        "\n",
        "#\n",
        "# Display the FITS.\n",
        "fig, ax = plt.subplots()\n",
        "im = plt.imshow(fits.data, cmap=sdoaia171, vmin=0.8)\n",
        "plt.colorbar(im, ax=ax)\n",
        "plt.show()\n",
        "\n",
        "\n",
        "\n"
      ],
      "execution_count": 0,
      "outputs": []
    },
    {
      "metadata": {
        "id": "DiZtysMmNbIB",
        "colab_type": "text"
      },
      "cell_type": "markdown",
      "source": [
        "##04. 히스토그램"
      ]
    },
    {
      "metadata": {
        "id": "zEnVhNk6NePi",
        "colab_type": "code",
        "colab": {}
      },
      "cell_type": "code",
      "source": [
        "#\n",
        "# SAMPLE 04. Display histogram.\n",
        "#\n",
        "\n",
        "#\n",
        "# Load a FITS file.\n",
        "file_path = \"aia.lev1_171_2013-05-01T03_00_00Z_image_lev1.fits\"\n",
        "\n",
        "fits = fitsfile.FitsFile()\n",
        "fits.load_file(file_path)\n",
        "\n",
        "#\n",
        "# Convert data to logscale and compute histograms.\n",
        "\n",
        "raw_img = fits.data\n",
        "raw_min = np.min(raw_img)\n",
        "raw_max = np.max(raw_img)\n",
        "raw_span = raw_max - raw_min\n",
        "raw_y, raw_x = np.histogram(raw_img, bins=np.arange(raw_min, raw_max, raw_span/256))\n",
        "\n",
        "scale_img = np.clip(raw_img, 1.0, None)\n",
        "scale_img = np.log10(scale_img)\n",
        "scale_min = np.min(scale_img)\n",
        "scale_max = np.max(scale_img)\n",
        "scale_span = scale_max - scale_min\n",
        "scale_y, scale_x = np.histogram(scale_img, bins=np.arange(scale_min, scale_max, scale_span/256))\n",
        "\n",
        "\n",
        "#\n",
        "#\n",
        "fig = plt.figure()\n",
        "\n",
        "ax1 = fig.add_subplot(2,2,1)\n",
        "im1 = ax1.imshow(raw_img, cmap=cm.gray)\n",
        "plt.colorbar(im1, ax=ax1)\n",
        "\n",
        "ax2 = fig.add_subplot(2,2,2)\n",
        "img2 = ax2.bar(raw_x[:-1], raw_y, width=raw_span/256, color=\"gray\")\n",
        "\n",
        "ax3 = fig.add_subplot(2,2,3)\n",
        "im3 = ax3.imshow(scale_img, cmap=cm.gray)\n",
        "plt.colorbar(im3, ax=ax3)\n",
        "\n",
        "ax4 = fig.add_subplot(2,2,4)\n",
        "img4 = ax4.bar(scale_x[:-1], scale_y, width=scale_span/256, color=\"gray\")\n",
        "\n",
        "\n",
        "mng = plt.get_current_fig_manager()\n",
        "mng.window.showMaximized()\n",
        "plt.show()\n",
        "\n",
        "exit()\n",
        "\n",
        "#\n",
        "# Display histogram.\n",
        "plt.bar(x[:-1], y, width=0.005, color=\"gray\", ax=ax2)\n",
        "plt.xlabel('Brightness')\n",
        "plt.ylabel('Frequency')\n",
        "plt.title('HISTOGRAM')\n",
        "\t\n",
        "mng = plt.get_current_fig_manager()\n",
        "mng.window.showMaximized()\n",
        "plt.show()\n",
        "\n",
        "\n",
        "#\n",
        "# Display the FITS.\n",
        "fig, ax = plt.subplots()\n",
        "im = plt.imshow(fits.data, cmap=cm.gray)\n",
        "plt.colorbar(im, ax=ax)\n",
        "plt.show()\n",
        "\n"
      ],
      "execution_count": 0,
      "outputs": []
    }
  ]
}